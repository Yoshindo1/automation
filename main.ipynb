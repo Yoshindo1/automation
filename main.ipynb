{
  "nbformat": 4,
  "nbformat_minor": 0,
  "metadata": {
    "colab": {
      "name": "main.ipynb",
      "provenance": []
    },
    "kernelspec": {
      "name": "python3",
      "display_name": "Python 3"
    },
    "language_info": {
      "name": "python"
    }
  },
  "cells": [
    {
      "cell_type": "code",
      "execution_count": null,
      "metadata": {
        "colab": {
          "base_uri": "https://localhost:8080/"
        },
        "id": "iIqmobjZ4_-0",
        "outputId": "2d59b558-6198-4160-c1b9-2bf58410769b"
      },
      "outputs": [
        {
          "output_type": "stream",
          "name": "stdout",
          "text": [
            "Requirement already satisfied: japanmap in /usr/local/lib/python3.7/dist-packages (0.0.23)\n",
            "Requirement already satisfied: jupyter in /usr/local/lib/python3.7/dist-packages (1.0.0)\n",
            "Requirement already satisfied: pandas in /usr/local/lib/python3.7/dist-packages (1.3.5)\n",
            "Requirement already satisfied: xlrd in /usr/local/lib/python3.7/dist-packages (2.0.1)\n",
            "Requirement already satisfied: opencv-python<5.0.0,>=4.2.0 in /usr/local/lib/python3.7/dist-packages (from japanmap) (4.5.5.64)\n",
            "Requirement already satisfied: Pillow<8.0.0,>=7.1.1 in /usr/local/lib/python3.7/dist-packages (from japanmap) (7.1.2)\n",
            "Requirement already satisfied: numpy<2.0.0,>=1.18.2 in /usr/local/lib/python3.7/dist-packages (from japanmap) (1.21.5)\n",
            "Requirement already satisfied: nbconvert in /usr/local/lib/python3.7/dist-packages (from jupyter) (5.6.1)\n",
            "Requirement already satisfied: ipykernel in /usr/local/lib/python3.7/dist-packages (from jupyter) (4.10.1)\n",
            "Requirement already satisfied: jupyter-console in /usr/local/lib/python3.7/dist-packages (from jupyter) (5.2.0)\n",
            "Requirement already satisfied: notebook in /usr/local/lib/python3.7/dist-packages (from jupyter) (5.3.1)\n",
            "Requirement already satisfied: qtconsole in /usr/local/lib/python3.7/dist-packages (from jupyter) (5.2.2)\n",
            "Requirement already satisfied: ipywidgets in /usr/local/lib/python3.7/dist-packages (from jupyter) (7.7.0)\n",
            "Requirement already satisfied: pytz>=2017.3 in /usr/local/lib/python3.7/dist-packages (from pandas) (2018.9)\n",
            "Requirement already satisfied: python-dateutil>=2.7.3 in /usr/local/lib/python3.7/dist-packages (from pandas) (2.8.2)\n",
            "Requirement already satisfied: six>=1.5 in /usr/local/lib/python3.7/dist-packages (from python-dateutil>=2.7.3->pandas) (1.15.0)\n",
            "Requirement already satisfied: tornado>=4.0 in /usr/local/lib/python3.7/dist-packages (from ipykernel->jupyter) (5.1.1)\n",
            "Requirement already satisfied: ipython>=4.0.0 in /usr/local/lib/python3.7/dist-packages (from ipykernel->jupyter) (5.5.0)\n",
            "Requirement already satisfied: traitlets>=4.1.0 in /usr/local/lib/python3.7/dist-packages (from ipykernel->jupyter) (5.1.1)\n",
            "Requirement already satisfied: jupyter-client in /usr/local/lib/python3.7/dist-packages (from ipykernel->jupyter) (5.3.5)\n",
            "Requirement already satisfied: simplegeneric>0.8 in /usr/local/lib/python3.7/dist-packages (from ipython>=4.0.0->ipykernel->jupyter) (0.8.1)\n",
            "Requirement already satisfied: pexpect in /usr/local/lib/python3.7/dist-packages (from ipython>=4.0.0->ipykernel->jupyter) (4.8.0)\n",
            "Requirement already satisfied: prompt-toolkit<2.0.0,>=1.0.4 in /usr/local/lib/python3.7/dist-packages (from ipython>=4.0.0->ipykernel->jupyter) (1.0.18)\n",
            "Requirement already satisfied: decorator in /usr/local/lib/python3.7/dist-packages (from ipython>=4.0.0->ipykernel->jupyter) (4.4.2)\n",
            "Requirement already satisfied: pygments in /usr/local/lib/python3.7/dist-packages (from ipython>=4.0.0->ipykernel->jupyter) (2.6.1)\n",
            "Requirement already satisfied: pickleshare in /usr/local/lib/python3.7/dist-packages (from ipython>=4.0.0->ipykernel->jupyter) (0.7.5)\n",
            "Requirement already satisfied: setuptools>=18.5 in /usr/local/lib/python3.7/dist-packages (from ipython>=4.0.0->ipykernel->jupyter) (57.4.0)\n",
            "Requirement already satisfied: wcwidth in /usr/local/lib/python3.7/dist-packages (from prompt-toolkit<2.0.0,>=1.0.4->ipython>=4.0.0->ipykernel->jupyter) (0.2.5)\n",
            "Requirement already satisfied: widgetsnbextension~=3.6.0 in /usr/local/lib/python3.7/dist-packages (from ipywidgets->jupyter) (3.6.0)\n",
            "Requirement already satisfied: ipython-genutils~=0.2.0 in /usr/local/lib/python3.7/dist-packages (from ipywidgets->jupyter) (0.2.0)\n",
            "Requirement already satisfied: nbformat>=4.2.0 in /usr/local/lib/python3.7/dist-packages (from ipywidgets->jupyter) (5.2.0)\n",
            "Requirement already satisfied: jupyterlab-widgets>=1.0.0 in /usr/local/lib/python3.7/dist-packages (from ipywidgets->jupyter) (1.1.0)\n",
            "Requirement already satisfied: jupyter-core in /usr/local/lib/python3.7/dist-packages (from nbformat>=4.2.0->ipywidgets->jupyter) (4.9.2)\n",
            "Requirement already satisfied: jsonschema!=2.5.0,>=2.4 in /usr/local/lib/python3.7/dist-packages (from nbformat>=4.2.0->ipywidgets->jupyter) (4.3.3)\n",
            "Requirement already satisfied: importlib-metadata in /usr/local/lib/python3.7/dist-packages (from jsonschema!=2.5.0,>=2.4->nbformat>=4.2.0->ipywidgets->jupyter) (4.11.3)\n",
            "Requirement already satisfied: typing-extensions in /usr/local/lib/python3.7/dist-packages (from jsonschema!=2.5.0,>=2.4->nbformat>=4.2.0->ipywidgets->jupyter) (3.10.0.2)\n",
            "Requirement already satisfied: importlib-resources>=1.4.0 in /usr/local/lib/python3.7/dist-packages (from jsonschema!=2.5.0,>=2.4->nbformat>=4.2.0->ipywidgets->jupyter) (5.4.0)\n",
            "Requirement already satisfied: attrs>=17.4.0 in /usr/local/lib/python3.7/dist-packages (from jsonschema!=2.5.0,>=2.4->nbformat>=4.2.0->ipywidgets->jupyter) (21.4.0)\n",
            "Requirement already satisfied: pyrsistent!=0.17.0,!=0.17.1,!=0.17.2,>=0.14.0 in /usr/local/lib/python3.7/dist-packages (from jsonschema!=2.5.0,>=2.4->nbformat>=4.2.0->ipywidgets->jupyter) (0.18.1)\n",
            "Requirement already satisfied: zipp>=3.1.0 in /usr/local/lib/python3.7/dist-packages (from importlib-resources>=1.4.0->jsonschema!=2.5.0,>=2.4->nbformat>=4.2.0->ipywidgets->jupyter) (3.7.0)\n",
            "Requirement already satisfied: Send2Trash in /usr/local/lib/python3.7/dist-packages (from notebook->jupyter) (1.8.0)\n",
            "Requirement already satisfied: terminado>=0.8.1 in /usr/local/lib/python3.7/dist-packages (from notebook->jupyter) (0.13.3)\n",
            "Requirement already satisfied: jinja2 in /usr/local/lib/python3.7/dist-packages (from notebook->jupyter) (2.11.3)\n",
            "Requirement already satisfied: pyzmq>=13 in /usr/local/lib/python3.7/dist-packages (from jupyter-client->ipykernel->jupyter) (22.3.0)\n",
            "Requirement already satisfied: ptyprocess in /usr/local/lib/python3.7/dist-packages (from terminado>=0.8.1->notebook->jupyter) (0.7.0)\n",
            "Requirement already satisfied: MarkupSafe>=0.23 in /usr/local/lib/python3.7/dist-packages (from jinja2->notebook->jupyter) (2.0.1)\n",
            "Requirement already satisfied: entrypoints>=0.2.2 in /usr/local/lib/python3.7/dist-packages (from nbconvert->jupyter) (0.4)\n",
            "Requirement already satisfied: pandocfilters>=1.4.1 in /usr/local/lib/python3.7/dist-packages (from nbconvert->jupyter) (1.5.0)\n",
            "Requirement already satisfied: mistune<2,>=0.8.1 in /usr/local/lib/python3.7/dist-packages (from nbconvert->jupyter) (0.8.4)\n",
            "Requirement already satisfied: defusedxml in /usr/local/lib/python3.7/dist-packages (from nbconvert->jupyter) (0.7.1)\n",
            "Requirement already satisfied: bleach in /usr/local/lib/python3.7/dist-packages (from nbconvert->jupyter) (4.1.0)\n",
            "Requirement already satisfied: testpath in /usr/local/lib/python3.7/dist-packages (from nbconvert->jupyter) (0.6.0)\n",
            "Requirement already satisfied: webencodings in /usr/local/lib/python3.7/dist-packages (from bleach->nbconvert->jupyter) (0.5.1)\n",
            "Requirement already satisfied: packaging in /usr/local/lib/python3.7/dist-packages (from bleach->nbconvert->jupyter) (21.3)\n",
            "Requirement already satisfied: pyparsing!=3.0.5,>=2.0.2 in /usr/local/lib/python3.7/dist-packages (from packaging->bleach->nbconvert->jupyter) (3.0.7)\n",
            "Requirement already satisfied: qtpy in /usr/local/lib/python3.7/dist-packages (from qtconsole->jupyter) (2.0.1)\n",
            "Requirement already satisfied: matplotlib==3.1.3 in /usr/local/lib/python3.7/dist-packages (3.1.3)\n",
            "Requirement already satisfied: pyparsing!=2.0.4,!=2.1.2,!=2.1.6,>=2.0.1 in /usr/local/lib/python3.7/dist-packages (from matplotlib==3.1.3) (3.0.7)\n",
            "Requirement already satisfied: numpy>=1.11 in /usr/local/lib/python3.7/dist-packages (from matplotlib==3.1.3) (1.21.5)\n",
            "Requirement already satisfied: kiwisolver>=1.0.1 in /usr/local/lib/python3.7/dist-packages (from matplotlib==3.1.3) (1.4.0)\n",
            "Requirement already satisfied: python-dateutil>=2.1 in /usr/local/lib/python3.7/dist-packages (from matplotlib==3.1.3) (2.8.2)\n",
            "Requirement already satisfied: cycler>=0.10 in /usr/local/lib/python3.7/dist-packages (from matplotlib==3.1.3) (0.11.0)\n",
            "Requirement already satisfied: typing-extensions in /usr/local/lib/python3.7/dist-packages (from kiwisolver>=1.0.1->matplotlib==3.1.3) (3.10.0.2)\n",
            "Requirement already satisfied: six>=1.5 in /usr/local/lib/python3.7/dist-packages (from python-dateutil>=2.1->matplotlib==3.1.3) (1.15.0)\n",
            "Requirement already satisfied: xlsxwriter in /usr/local/lib/python3.7/dist-packages (3.0.3)\n",
            "Requirement already satisfied: japanize-matplotlib in /usr/local/lib/python3.7/dist-packages (1.1.3)\n",
            "Requirement already satisfied: matplotlib in /usr/local/lib/python3.7/dist-packages (from japanize-matplotlib) (3.1.3)\n",
            "Requirement already satisfied: pyparsing!=2.0.4,!=2.1.2,!=2.1.6,>=2.0.1 in /usr/local/lib/python3.7/dist-packages (from matplotlib->japanize-matplotlib) (3.0.7)\n",
            "Requirement already satisfied: kiwisolver>=1.0.1 in /usr/local/lib/python3.7/dist-packages (from matplotlib->japanize-matplotlib) (1.4.0)\n",
            "Requirement already satisfied: python-dateutil>=2.1 in /usr/local/lib/python3.7/dist-packages (from matplotlib->japanize-matplotlib) (2.8.2)\n",
            "Requirement already satisfied: cycler>=0.10 in /usr/local/lib/python3.7/dist-packages (from matplotlib->japanize-matplotlib) (0.11.0)\n",
            "Requirement already satisfied: numpy>=1.11 in /usr/local/lib/python3.7/dist-packages (from matplotlib->japanize-matplotlib) (1.21.5)\n",
            "Requirement already satisfied: typing-extensions in /usr/local/lib/python3.7/dist-packages (from kiwisolver>=1.0.1->matplotlib->japanize-matplotlib) (3.10.0.2)\n",
            "Requirement already satisfied: six>=1.5 in /usr/local/lib/python3.7/dist-packages (from python-dateutil>=2.1->matplotlib->japanize-matplotlib) (1.15.0)\n",
            "Drive already mounted at /content/drive; to attempt to forcibly remount, call drive.mount(\"/content/drive\", force_remount=True).\n"
          ]
        }
      ],
      "source": [
        "# 必要なライブラリをインストール・インポートしておく\n",
        "! pip install -U japanmap jupyter pandas xlrd\n",
        "! pip install matplotlib==3.1.3\n",
        "! pip install -U xlsxwriter\n",
        "! pip install japanize-matplotlib\n",
        "import os, io, glob,time,sys\n",
        "import json, requests, regex, xlsxwriter, openpyxl\n",
        "import pandas as pd\n",
        "import matplotlib.pyplot as plt\n",
        "from japanmap import picture\n",
        "from openpyxl import load_workbook\n",
        "\n",
        "from google.colab import drive\n",
        "drive.mount('/content/drive')\n",
        "\n"
      ]
    },
    {
      "cell_type": "code",
      "source": [
        "# mainの処理で呼び出す関数を書いておく\n",
        "\n",
        "def convert_zipcode(postal_code,row_locator):\n",
        "  \"\"\"\n",
        "  Pandasデータフレーム内のzip列、行番号を入力し、県,市区の列を返す  \n",
        "  \"\"\"\n",
        "  # アクセス前に1秒間のスリープ時間を持たせる(※これより短いと、APIサーバ側からアクセス拒否される)\n",
        "  time.sleep(1.1)\n",
        "\n",
        "  # 呼びだすAPI元のURL\n",
        "  RECEST_URL = \"http://zipcloud.ibsnet.co.jp/api/search?zipcode={0}\".format(postal_code)\n",
        "    \n",
        "  # HTTPヘッダにユーザーエージェント(User Agent)を設定してあげる\n",
        "  dummy_user_agent = 'Mozilla/5.0 (Windows NT 6.1; Win64; x64; rv:47.0) Gecko/20100101 Firefox/47.0'\n",
        "  response = requests.get(RECEST_URL,headers={\"User-Agent\": dummy_user_agent})\n",
        "    \n",
        "  json_result = response.text\n",
        "  json_to_dic_result = json.loads(response.text)\n",
        "\n",
        "  # 該当する情報の判定\n",
        "  if json_to_dic_result[\"message\"] == None:\n",
        "    # resultキーでエラーが起きる場合\n",
        "    if json_to_dic_result[\"results\"] == None:\n",
        "      target_data[\"都道府県\"][row_locator] = \"該当なし\"\n",
        "      target_data[\"市区\"][row_locator] = \"該当なし\"\n",
        "      target_data[\"市\"][row_locator] = \"該当なし\"\n",
        "      return\n",
        "    else: # resultキーに対応するリスト内タプルを取得\n",
        "      result_dic = json_to_dic_result[\"results\"][0]\n",
        "\n",
        "  else: # messageキーでエラーが起きる場合 \n",
        "    print(\"No Matched Address: ZIP Code Typo?\")\n",
        "    target_data[\"都道府県\"][row_locator] = \"該当なし\"\n",
        "    target_data[\"市区\"][row_locator] = \"該当なし\"\n",
        "    target_data[\"市\"][row_locator] = \"該当なし\"\n",
        "    return\n",
        "    \n",
        "  # target_dataに値を返す\n",
        "  target_data[\"都道府県\"][row_locator] = result_dic[\"address1\"] \n",
        "  target_data[\"市区\"][row_locator] = result_dic[\"address2\"]\n",
        "  target_data[\"市\"][row_locator] = regex.search(\".+?(市|区|郡)\", target_data[\"市区\"][row_locator]).group()# 重要；orで市or区or郡で分岐する\n",
        "  return\n",
        "\n",
        "\n",
        "def append_sum_row_label(df):\n",
        "  \"\"\"groubpyされたdataframeを入力とし、その末尾に集計総数をappendして返す\"\"\"\n",
        "  df.loc['合計'] = df.sum()\n",
        "  return df\n",
        "\n",
        "def heatmap(agg):\n",
        "  \"\"\"県ごとの注文集計をヒートマップ形式で表示し、その画像ファイルをオブジェクトで返す\"\"\"\n",
        "  cmap = plt.get_cmap('Reds')\n",
        "  norm = plt.Normalize(vmin=agg.min(), vmax=agg.max())\n",
        "  fcol = lambda x: '#' + bytes(cmap(norm(x), bytes=True)[:3]).hex()\n",
        "\n",
        "  fig, ax = plt.subplots()\n",
        "\n",
        "  fig.colorbar(plt.cm.ScalarMappable(norm, cmap))\n",
        "  ax.imshow(picture(agg.apply(fcol)))\n",
        "  print(\"集計結果を表示します：\")\n",
        "  #  PCのメモリに画像を保持する\n",
        "  imgdata = io.BytesIO()\n",
        "  fig.savefig(imgdata, format='png', dpi=300)\n",
        "  return imgdata\n"
      ],
      "metadata": {
        "id": "Ksv1QM45H77u"
      },
      "execution_count": null,
      "outputs": []
    },
    {
      "cell_type": "code",
      "source": [
        "# 0. 事前準備\n",
        "# 作業フォルダパスをつなぐ\n",
        "\n",
        "working_dir = '住所検索集計'\n",
        "path = f'/content/drive/MyDrive/Colab Notebooks/GithubPF_sandbox/{working_dir}/'\n",
        "os.chdir(path)\n",
        "\n",
        "# 各入出力フォルダを生成\n",
        "data_dir = \"data\"\n",
        "input_dir = os.path.join(data_dir, \"0_input\")\n",
        "output_dir = os.path.join(data_dir, \"10_output\")\n",
        "os.makedirs(input_dir,exist_ok=True)\n",
        "os.makedirs(output_dir,exist_ok=True)\n",
        "\n",
        "\n",
        "def main():\n",
        "  # 1. 読み込み\n",
        "  print('入力フォルダ内にある、郵便番号を含む注文データファイルを入力してください：〜.xlsx')\n",
        "  for f in glob.glob(f'{input_dir}/*.xlsx'):\n",
        "    print(os.path.split(f)[1])\n",
        "  target_file = input('>> ')\n",
        "  fpath = os.path.join(input_dir,target_file)\n",
        "  target_data = pd.read_excel(fpath)\n",
        "\n",
        "  # 2. 格納データオブジェクトに都道府県・市区列を追加し、必要な列のみ選択\n",
        "  target_data[[\"都道府県\", \"市区\", \"市\",\"区\", \"地方区分\"]] = \"\"\n",
        "  target_data = target_data[[\"ZIP Code\",\"地方区分\",\"都道府県\",\"市区\", \"市\"]]\n",
        "\n",
        "  # 3. 外部APIを用いて、郵便番号から都道府県・市区を出力\n",
        "  for i in range(0,len(target_data)):\n",
        "    convert_zipcode(target_data[\"ZIP Code\"][i],i)\n",
        "\n",
        "  # 4. 注文件数を各粒度（県・市）で集計する\n",
        "  byPref = target_data.groupby(\"都道府県\").count()[\"ZIP Code\"] .sort_values(ascending=False)\n",
        "  append_sum_row_label(byPref)\n",
        "\n",
        "  # 市レベルの注文数を集計（今回はインスタンスに愛知県を使用）\n",
        "  target_pref = \"愛知県\"\n",
        "  byCity = target_data.loc[target_data[\"都道府県\"] == target_pref].groupby(\"市\").count()[\"ZIP Code\"].sort_values(ascending=False)\n",
        "  append_sum_row_label(byCity)\n",
        "\n",
        "  # 5. 集計結果を各ワークシートにまとめ、出力フォルダにXSLX形式ファイルに格納\n",
        "  export_to = os.path.join(output_dir,f'report_{target_file}')\n",
        "  with pd.ExcelWriter(export_to, engine = 'xlsxwriter') as writer:\n",
        "    byPref.to_excel(writer, sheet_name = '都道府県毎の集計結果')\n",
        "    byCity.to_excel(writer, sheet_name = f'市毎の集計結果({target_pref})')\n",
        "    target_data.to_excel(writer, sheet_name = '集計元データ(住所)')\n",
        "\n",
        "  # 可視化したデータをPCのメモリに保持する\n",
        "  imgdata = heatmap(byPref)\n",
        "\n",
        "  #  ワークブックを再度開いて、可視化データを乗せるワークシートを用意\n",
        "  wb = load_workbook(export_to)\n",
        "  ws = wb.get_sheet_by_name('都道府県毎の集計結果')\n",
        "\n",
        "  # 画像データをリサイズし、既存のワークシートに追加\n",
        "  img = openpyxl.drawing.image.Image(imgdata)\n",
        "  img.height = 25 * 10  # 10セル行分\n",
        "  img.width = 72 * 7    # 7セル列分\n",
        "  ws.add_image(img, 'D1')\n",
        "  wb.save(export_to)\n",
        "  wb.close()\n",
        "\n",
        "  return\n",
        "\n",
        "main()"
      ],
      "metadata": {
        "colab": {
          "base_uri": "https://localhost:8080/",
          "height": 393
        },
        "id": "_2YDUPKc6rgY",
        "outputId": "69f63cb9-6e1d-4725-c126-1f84ad1e46a4"
      },
      "execution_count": null,
      "outputs": [
        {
          "output_type": "stream",
          "name": "stdout",
          "text": [
            "入力フォルダ内にある、郵便番号を含む注文データファイルを入力してください：〜.xlsx\n",
            "sample01_3month.xlsx\n",
            "meero shooting 2021-06-10T0913.xlsx\n",
            ">> sample01_3month.xlsx\n",
            "集計結果を表示します：\n"
          ]
        },
        {
          "output_type": "stream",
          "name": "stderr",
          "text": [
            "/usr/local/lib/python3.7/dist-packages/ipykernel_launcher.py:54: DeprecationWarning: Call to deprecated function get_sheet_by_name (Use wb[sheetname]).\n"
          ]
        },
        {
          "output_type": "display_data",
          "data": {
            "text/plain": [
              "<Figure size 432x288 with 2 Axes>"
            ],
            "image/png": "[encoded data removed]"
          },
          "metadata": {
            "needs_background": "light"
          }
        }
      ]
    },
    {
      "cell_type": "code",
      "source": [
        ""
      ],
      "metadata": {
        "id": "hM3cHkVWicTa"
      },
      "execution_count": null,
      "outputs": []
    }
  ]
}